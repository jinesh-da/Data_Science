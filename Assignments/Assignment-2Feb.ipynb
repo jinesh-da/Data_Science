{
 "cells": [
  {
   "cell_type": "markdown",
   "id": "2f6c3edc-114f-48da-97f6-a99113e46595",
   "metadata": {},
   "source": [
    "Q1. What are the characteristics of the tuples? Is tuple immutable?\n"
   ]
  },
  {
   "cell_type": "markdown",
   "id": "d734b4ea-d208-499f-8628-df4bdb28f062",
   "metadata": {},
   "source": [
    "**Ans-**\n",
    "\n",
    "Tuples are collection of objects which are ordered and unchangeable. It alows duplicate. Tuple items are indexed so we can indexed items with from starting position zero.  \n",
    "There are two functions which we can usse:\n",
    "1. count(): it will count particular item in tuple. \n",
    "2. index(): it will search particular element and return index of particular element. \n",
    "3. len(): Length of tuple\n",
    "\n",
    "Things which not implement in tuple:\n",
    "1. we cannot update,\n",
    "2.  we cannot add\n",
    "3. we cannot append in tuple\n",
    "\n",
    "\n",
    "Tuples are immutable i.e we can not change the values in existing tuples. We can only update the particular values by first converting tuples into list and after updating values on list and again we convert list into tuples. Same way we can remove the item. But in tuple we can delete tuple by completely del keyword. \n",
    "\n"
   ]
  },
  {
   "cell_type": "markdown",
   "id": "fbe8d79a-f75f-43ae-a7de-c4e7b9f6c921",
   "metadata": {},
   "source": [
    "**Q2  What are the two tuple methods in python? Give an example of each method. Give a reason why\n",
    "tuples have only two in-built methods as compared to Lists.**\n"
   ]
  },
  {
   "cell_type": "markdown",
   "id": "595d7151-724e-41a1-b669-31984230f64d",
   "metadata": {},
   "source": [
    "**Ans-** \n",
    "\n",
    "Two methods in Tuple are:\n",
    "1. index(): it will search particular element and return index of particular element\n",
    "\n",
    "    syntax: <tuple>.index(<particular_item>)\n"
   ]
  },
  {
   "cell_type": "code",
   "execution_count": 2,
   "id": "efad9ca1-3f9b-4113-bfc2-84f3342dc4c2",
   "metadata": {},
   "outputs": [
    {
     "data": {
      "text/plain": [
       "2"
      ]
     },
     "execution_count": 2,
     "metadata": {},
     "output_type": "execute_result"
    }
   ],
   "source": [
    "a=(1,2,6,7)\n",
    "a.index(6)"
   ]
  },
  {
   "cell_type": "markdown",
   "id": "0f9cdbc6-0a8c-4dc2-9378-79e6c327a6dd",
   "metadata": {},
   "source": [
    "2. count(): it will count the particular item in tuple\n",
    "\n",
    "    Syntax: <tuple>.count(<particular item>)\n",
    "    "
   ]
  },
  {
   "cell_type": "code",
   "execution_count": 4,
   "id": "9535e362-0b21-4554-b15e-048e9c72886a",
   "metadata": {},
   "outputs": [
    {
     "data": {
      "text/plain": [
       "2"
      ]
     },
     "execution_count": 4,
     "metadata": {},
     "output_type": "execute_result"
    }
   ],
   "source": [
    "b=(1,2,6,7,7,7,6,2,2,1)\n",
    "b.count(6)"
   ]
  },
  {
   "cell_type": "markdown",
   "id": "dcad2adc-ea53-468d-a5fc-c065bf6be2f4",
   "metadata": {},
   "source": [
    "Tuple has property such that items once created in tuple we cannot change, add, append, delete the particular item. So thats why we do not have these methods as compared to list. \n"
   ]
  },
  {
   "cell_type": "markdown",
   "id": "5e6ec76f-d40c-4a7f-b920-0254217cc09c",
   "metadata": {},
   "source": [
    "**Q3. Which collection datatypes in python do not allow duplicate items? Write a code using a set to remove\n",
    "duplicates from the given list.**\n",
    "List = [1, 1, 1, 2, 1, 3, 1, 4, 2, 1, 2, 2, 2, 3, 2, 4, 3, 1, 3, 2, 3, 3, 3, 4, 4, 1, 4, 2, 4, 3, 4, 4]\n"
   ]
  },
  {
   "cell_type": "markdown",
   "id": "feb04b31-fdf1-4a89-9d70-090feea31333",
   "metadata": {},
   "source": [
    "**Ans** There are two collection data type where we do not have duplicate in objects. \n",
    "1. Set :\n",
    "2. dictionary:\n",
    "    \n"
   ]
  },
  {
   "cell_type": "code",
   "execution_count": 19,
   "id": "59e6ddfe-211e-434e-9417-a8bcabca61f2",
   "metadata": {},
   "outputs": [],
   "source": [
    "List = [1, 1, 1, 2, 1, 3, 1, 4, 2, 1, 2, 2, 2, 3, 2, 4, 3, 1, 3, 2, 3, 3, 3, 4, 4, 1, 4, 2, 4, 3, 4, 4]"
   ]
  },
  {
   "cell_type": "code",
   "execution_count": 20,
   "id": "bf7d843d-d96a-4d01-85df-2b340f2cae6d",
   "metadata": {},
   "outputs": [],
   "source": [
    "l_tuple = set(List)"
   ]
  },
  {
   "cell_type": "code",
   "execution_count": 21,
   "id": "83df83f5-54e8-4ff1-ab9c-3559827c3044",
   "metadata": {},
   "outputs": [
    {
     "name": "stdout",
     "output_type": "stream",
     "text": [
      "{1, 2, 3, 4}\n"
     ]
    }
   ],
   "source": [
    "print(l_tuple)"
   ]
  },
  {
   "cell_type": "markdown",
   "id": "f2463db5-4f66-414d-bbd7-04e24c999195",
   "metadata": {},
   "source": [
    "Q4. Explain the difference between the union() and update() methods for a set. Give an example of\n",
    "each method.\n"
   ]
  },
  {
   "cell_type": "markdown",
   "id": "a9bf44dd-e13f-44ca-b4db-5f0b29c1e3b2",
   "metadata": {},
   "source": [
    "**Ans** The only difference between union() and update() function i.e update() works similar as union just update() does changes in existing set and in union() - it will return another set. \n",
    "\n",
    "update(): it will return none. It will update the missing elements of existing set. Changes are done at in place. "
   ]
  },
  {
   "cell_type": "code",
   "execution_count": 3,
   "id": "211a4c75-c974-4800-94f6-5a03295da5d8",
   "metadata": {},
   "outputs": [
    {
     "name": "stdout",
     "output_type": "stream",
     "text": [
      "None\n",
      "{'POP', 'ABC', 'PQR', 'PPP', 'BBC'}\n"
     ]
    }
   ],
   "source": [
    "set1 = {\"ABC\",\"PQR\",\"POP\"}\n",
    "set2 = {\"BBC\",\"ABC\",\"PPP\"}\n",
    "set1.update(set2)\n",
    "print(set1.update(set2))\n",
    "print(set1)"
   ]
  },
  {
   "cell_type": "markdown",
   "id": "7880d7de-ea4b-4cd1-8053-42031afd7848",
   "metadata": {},
   "source": [
    "union :- it will return new set of all the elements from set1 and set2"
   ]
  },
  {
   "cell_type": "code",
   "execution_count": 5,
   "id": "28da075a-1fa2-4aa0-b00b-e123ebb70ab6",
   "metadata": {},
   "outputs": [
    {
     "name": "stdout",
     "output_type": "stream",
     "text": [
      "{'POP', 'ABC', 'PQR', 'PPP', 'BBC'}\n",
      "{'POP', 'ABC', 'PQR', 'PPP', 'BBC'}\n"
     ]
    }
   ],
   "source": [
    "set1 = {\"ABC\",\"PQR\",\"POP\"}\n",
    "set2 = {\"BBC\",\"ABC\",\"PPP\"}\n",
    "set3=set1.union(set2)\n",
    "print(set1.union(set2))\n",
    "print(set3)"
   ]
  },
  {
   "cell_type": "markdown",
   "id": "f42b81ea-8602-4862-aa01-a37f742b12e9",
   "metadata": {},
   "source": [
    "Q5. What is a dictionary? Give an example. Also, state whether a dictionary is ordered or unordered."
   ]
  },
  {
   "cell_type": "markdown",
   "id": "ead4fdb7-89a6-4807-b934-90e0fc36f876",
   "metadata": {},
   "source": [
    "**Ans-** Dictionary consists of collection of key value pairs. Each key is mapped to respective value in dictionary. \n",
    "Dictionaries are ordered and changeable and do not allow duplicates. keys are values are seperated by : . \n",
    "\n",
    "Syntax: d = {key1:value}"
   ]
  },
  {
   "cell_type": "code",
   "execution_count": 6,
   "id": "ad76d0b7-0bf1-4ce0-a68e-06d893fc16e7",
   "metadata": {},
   "outputs": [],
   "source": [
    "dict1 = { \"name\": \"Jinesh\", \"age\":25 }"
   ]
  },
  {
   "cell_type": "code",
   "execution_count": 7,
   "id": "dcbeb2d3-f007-4bbb-a606-587a53135a49",
   "metadata": {},
   "outputs": [
    {
     "name": "stdout",
     "output_type": "stream",
     "text": [
      "{'name': 'Jinesh', 'age': 25}\n",
      "<class 'dict'>\n"
     ]
    }
   ],
   "source": [
    "print(dict1)\n",
    "\n",
    "print (type(dict1))"
   ]
  },
  {
   "cell_type": "code",
   "execution_count": 9,
   "id": "0fc3297b-b6a4-4ebd-a3bd-0b492a43bada",
   "metadata": {},
   "outputs": [
    {
     "name": "stdout",
     "output_type": "stream",
     "text": [
      "{'name': 'Jinesh', 'age': 25}\n",
      "<class 'dict'>\n"
     ]
    }
   ],
   "source": [
    "# Another way to create dict1\n",
    "\n",
    "dict2 = dict(((\"name\",\"Jinesh\"),(\"age\",25)))\n",
    "print(dict2)\n",
    "print(type(dict2))\n"
   ]
  },
  {
   "cell_type": "code",
   "execution_count": 10,
   "id": "5335e844-c776-44bb-9b7c-b77d850b84ee",
   "metadata": {},
   "outputs": [
    {
     "name": "stdout",
     "output_type": "stream",
     "text": [
      "{'name': 'Jinesh', 'age': 25, 'place': 'Mumbai'}\n"
     ]
    }
   ],
   "source": [
    "# Now we are adding some value in dict2 and see whether the order of key values in dictionaries remain same. \n",
    "\n",
    "dict2[\"place\"]=\"Mumbai\"\n",
    "print(dict2)"
   ]
  },
  {
   "cell_type": "markdown",
   "id": "d479b9ab-674a-4fa5-a0cb-6fcfc17658c6",
   "metadata": {},
   "source": [
    "By this example we confirmed the dictionaries are ordered i.e which are elements are assigned first and have the position first. \n"
   ]
  },
  {
   "cell_type": "markdown",
   "id": "b2a0b6c7-62d9-4e84-975d-db45e959fb0f",
   "metadata": {},
   "source": [
    "Q6. Can we create a nested dictionary? If so, please give an example by creating a simple one-level\n",
    "nested dictionary."
   ]
  },
  {
   "cell_type": "markdown",
   "id": "aae76ce3-9487-42de-830a-009ec8f291d7",
   "metadata": {},
   "source": [
    "**Ans-** Yes we can create a nested dictionary."
   ]
  },
  {
   "cell_type": "code",
   "execution_count": 13,
   "id": "9addc82a-5baf-49c4-b8f0-9f178755d02f",
   "metadata": {},
   "outputs": [
    {
     "name": "stdout",
     "output_type": "stream",
     "text": [
      "{'name': 'Jinesh', 'age': 25, 'other_info': {'fav_color': 'red', 'fav_subject': ['Maths', 'Science']}}\n"
     ]
    }
   ],
   "source": [
    "dict3 = {\"name\":\"Jinesh\",\"age\":25, \"other_info\":{\"fav_color\": \"red\", \"fav_subject\":[\"Maths\",\"Science\"]}}\n",
    "print(dict3)"
   ]
  },
  {
   "cell_type": "markdown",
   "id": "4baedfaa-cde8-45af-bc94-12c84e56931e",
   "metadata": {},
   "source": [
    "Q7. Using setdefault() method, create key named topics in the given dictionary and also add the value of\n",
    "the key as this list ['Python', 'Machine Learning’, 'Deep Learning']\n",
    "\n",
    "dict1 = {'language' : 'Python', 'course': 'Data Science Masters'}"
   ]
  },
  {
   "cell_type": "code",
   "execution_count": 16,
   "id": "3d663ef6-1541-4459-824f-d8d30b8d0d4c",
   "metadata": {},
   "outputs": [],
   "source": [
    "dict1 = {'language':'Python','course':'Data Science Masters'}\n"
   ]
  },
  {
   "cell_type": "code",
   "execution_count": 23,
   "id": "b559315b-55a7-46ee-aaff-8fb9ad141528",
   "metadata": {},
   "outputs": [
    {
     "data": {
      "text/plain": [
       "['Python', 'Machine Learning', 'Deep Learning']"
      ]
     },
     "execution_count": 23,
     "metadata": {},
     "output_type": "execute_result"
    }
   ],
   "source": [
    "dict1.setdefault((\"topics\"),(['Python', 'Machine Learning' ,'Deep Learning']))"
   ]
  },
  {
   "cell_type": "code",
   "execution_count": 24,
   "id": "37fa679c-57ff-44bc-a62c-7e0cae55687a",
   "metadata": {},
   "outputs": [
    {
     "data": {
      "text/plain": [
       "{'language': 'Python',\n",
       " 'course': 'Data Science Masters',\n",
       " 'topics': ['Python', 'Machine Learning', 'Deep Learning']}"
      ]
     },
     "execution_count": 24,
     "metadata": {},
     "output_type": "execute_result"
    }
   ],
   "source": [
    "dict1"
   ]
  },
  {
   "cell_type": "markdown",
   "id": "7b232bed-9215-4daf-9aa0-4bfd7771b8e4",
   "metadata": {},
   "source": [
    "If key does not exist in dictionary, this function will insert key and specified value in the dictionary and also return specified value of that key. "
   ]
  },
  {
   "cell_type": "markdown",
   "id": "8eb2a849-2e0d-4a83-9ee0-982a6798920a",
   "metadata": {},
   "source": [
    "Q8. What are the three view objects int dictionaries? Use the three in-built methods in python to display\n",
    "these three view objects for the given dictionary.\n",
    "dict1 = {'Sport': 'Cricket' , 'Teams': ['India', 'Australia', 'England', 'South Africa', 'Sri Lanka', 'New Zealand']}"
   ]
  },
  {
   "cell_type": "markdown",
   "id": "daad3524-e8d7-4fee-bcb7-5aa55af3289e",
   "metadata": {},
   "source": [
    "**Ans -** Three view objects in dictionaries are :\n",
    "- Keys\n",
    "- Values\n",
    "- Items\n",
    "\n",
    "Keys holds all the keys of the dictionary, the values objects holds all the values, whereas the items holds the key-value pairs."
   ]
  },
  {
   "cell_type": "code",
   "execution_count": 27,
   "id": "262ae036-68f8-43b3-a0d5-1465f305d789",
   "metadata": {},
   "outputs": [
    {
     "data": {
      "text/plain": [
       "dict_keys(['Sport', 'Teams'])"
      ]
     },
     "execution_count": 27,
     "metadata": {},
     "output_type": "execute_result"
    }
   ],
   "source": [
    "# 1. Keys()\n",
    "\n",
    "dict1 = {'Sport': 'Cricket' , 'Teams': ['India', 'Australia', 'England', 'South Africa', 'Sri Lanka', 'New Zealand']}\n",
    "dict1.keys()"
   ]
  },
  {
   "cell_type": "code",
   "execution_count": 31,
   "id": "9fc27eb0-788a-4bab-8963-7509068919b1",
   "metadata": {},
   "outputs": [
    {
     "data": {
      "text/plain": [
       "dict_values(['Cricket', ['India', 'Australia', 'England', 'South Africa', 'Sri Lanka', 'New Zealand']])"
      ]
     },
     "execution_count": 31,
     "metadata": {},
     "output_type": "execute_result"
    }
   ],
   "source": [
    "dict1.values() "
   ]
  },
  {
   "cell_type": "code",
   "execution_count": 32,
   "id": "ebc71984-9d5c-46e6-b7f1-15a573de254d",
   "metadata": {},
   "outputs": [
    {
     "data": {
      "text/plain": [
       "dict_items([('Sport', 'Cricket'), ('Teams', ['India', 'Australia', 'England', 'South Africa', 'Sri Lanka', 'New Zealand'])])"
      ]
     },
     "execution_count": 32,
     "metadata": {},
     "output_type": "execute_result"
    }
   ],
   "source": [
    "dict1.items()  #key and value pairs are stored in tuples "
   ]
  },
  {
   "cell_type": "markdown",
   "id": "4254477e-a51a-4e33-9bfe-469ea81b2f29",
   "metadata": {},
   "source": [
    "<img src=\"https://media3.giphy.com/media/l4FAPaGGeB7D1LfIA/200w.webp?cid=ecf05e474vipn4nehjglkg9wb5apbpqg6h60qdqj93nya849&rid=200w.webp&ct=g\" align=\"center\"/>\n",
    "\n"
   ]
  },
  {
   "cell_type": "code",
   "execution_count": null,
   "id": "3b6f7e5b-37a3-4c2b-bac3-7c7dcfe6fea3",
   "metadata": {},
   "outputs": [],
   "source": []
  }
 ],
 "metadata": {
  "kernelspec": {
   "display_name": "Python 3 (ipykernel)",
   "language": "python",
   "name": "python3"
  },
  "language_info": {
   "codemirror_mode": {
    "name": "ipython",
    "version": 3
   },
   "file_extension": ".py",
   "mimetype": "text/x-python",
   "name": "python",
   "nbconvert_exporter": "python",
   "pygments_lexer": "ipython3",
   "version": "3.10.8"
  }
 },
 "nbformat": 4,
 "nbformat_minor": 5
}
