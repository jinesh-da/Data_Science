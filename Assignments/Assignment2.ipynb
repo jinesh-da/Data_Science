{
 "cells": [
  {
   "cell_type": "markdown",
   "id": "a0ecd5fa-3251-42a5-8cee-2ebe821afb88",
   "metadata": {},
   "source": [
    "# Assignment 2 - 30th Jan"
   ]
  },
  {
   "cell_type": "markdown",
   "id": "26efd9d6-2e5c-4898-9292-35a48cc66ffb",
   "metadata": {},
   "source": [
    "**1. Write a program to accept percentage as user input and display grade as per following**\n",
    "\n",
    "|Marks|Grade|\n",
    "|-----|-----|\n",
    "|>90|A|\n",
    "|>80 and <=90|B|\n",
    "|>=60 and <=80|C|\n",
    "|below 60|D|\n",
    "\n"
   ]
  },
  {
   "cell_type": "code",
   "execution_count": 22,
   "id": "b205af61-f927-4407-b768-b1f7acff17fb",
   "metadata": {},
   "outputs": [
    {
     "name": "stdin",
     "output_type": "stream",
     "text": [
      "Enter your percentage value 45\n"
     ]
    },
    {
     "name": "stdout",
     "output_type": "stream",
     "text": [
      "Your grade is D\n"
     ]
    }
   ],
   "source": [
    "marks=int(input(\"Enter your percentage value\")) #Accept the value\n",
    "if marks>90:\n",
    "    print(\"Your Grade is A\")\n",
    "elif marks>80 and marks<=90:\n",
    "    print(\"Your Grade is B\")\n",
    "elif marks>=60 and marks<=80:\n",
    "    print(\"Your Grade is C\")\n",
    "else:\n",
    "    print(\"Your grade is D\")"
   ]
  },
  {
   "cell_type": "markdown",
   "id": "2f06ae15-cfb7-41bd-b8fd-2324e7b8b441",
   "metadata": {},
   "source": [
    "**2. Write a program to accept cost price of bike as user input and display tax needs to be paid as per following criteria**\n",
    "\n",
    "|Tax|Cost price in (Rs)|\n",
    "|-----|-----|\n",
    "|15%|>100000|\n",
    "|10%|>50000 and <=100000|\n",
    "|5%|<=50000|\n"
   ]
  },
  {
   "cell_type": "code",
   "execution_count": 5,
   "id": "37f35aae-f44d-4a63-b3e4-78afd432ee66",
   "metadata": {},
   "outputs": [
    {
     "name": "stdin",
     "output_type": "stream",
     "text": [
      "Enter cost price of bike in (Rs) 65000\n"
     ]
    },
    {
     "name": "stdout",
     "output_type": "stream",
     "text": [
      "Road tax needs to paid on this bike is Rs 6500.0\n"
     ]
    }
   ],
   "source": [
    "cost_price=int(input(\"Enter cost price of bike in (Rs)\")) #Accept the value\n",
    "if cost_price>100000:\n",
    "    tax_paid = 0.15*cost_price\n",
    "    print(f\"Road tax needs to paid on this bike is Rs {tax_paid}\")\n",
    "elif cost_price>50000 and cost_price<=100000:\n",
    "    tax_paid = 0.10*cost_price\n",
    "    print(f\"Road tax needs to paid on this bike is Rs {tax_paid}\")\n",
    "else:\n",
    "    tax_paid = 0.05*cost_price\n",
    "    print(f\"Road tax needs to paid on this bike is Rs {tax_paid}\")"
   ]
  },
  {
   "cell_type": "markdown",
   "id": "7eacc99b-888c-49aa-8392-16a2b28081f4",
   "metadata": {},
   "source": [
    "**3. Accept city name from user and display Monument**\n",
    "\n",
    "|City|Monument|\n",
    "|-----|-----|\n",
    "|Delhi|Red Fort|\n",
    "|Agra|Taj Mahal|\n",
    "|Jaipur|Jal Mahal|"
   ]
  },
  {
   "cell_type": "code",
   "execution_count": 7,
   "id": "20ad766c-fff9-4238-92bb-c3f09e75b4b9",
   "metadata": {},
   "outputs": [
    {
     "name": "stdout",
     "output_type": "stream",
     "text": [
      "Enter your Favorite city name and I will tell you their respective Monument\n"
     ]
    },
    {
     "name": "stdin",
     "output_type": "stream",
     "text": [
      "Enter City Name Agra\n"
     ]
    },
    {
     "name": "stdout",
     "output_type": "stream",
     "text": [
      "Monument in your city Agra is Taj Mahal\n"
     ]
    }
   ],
   "source": [
    "\n",
    "print(\"Enter your Favorite city name and I will tell you their respective Monument\")\n",
    "city_name=input(\"Enter City Name\") #Accept the value\n",
    "if city_name.title()=='Delhi':\n",
    "    print(f\"Monument in your city {city_name.title()} is Red Fort\")\n",
    "elif city_name.title()=='Agra':\n",
    "    print(f\"Monument in your city {city_name.title()} is Taj Mahal\")\n",
    "elif city_name.title()=='Jaipur':\n",
    "    print(f\"Monument in your city {city_name.title()} is Jal Mahal\")\n",
    "else:\n",
    "    print(f\"Your city {city_name} is not in my database\")"
   ]
  },
  {
   "cell_type": "markdown",
   "id": "77fbaadc-52f4-4661-88b4-1185436d7483",
   "metadata": {},
   "source": [
    "**4. Check how many times given number is divided by 3 before it is less than or equal to 10**"
   ]
  },
  {
   "cell_type": "code",
   "execution_count": 16,
   "id": "5c175706-bca5-4b48-899a-aa7a0fc53501",
   "metadata": {},
   "outputs": [
    {
     "name": "stdin",
     "output_type": "stream",
     "text": [
      "Enter your number 12\n"
     ]
    },
    {
     "name": "stdout",
     "output_type": "stream",
     "text": [
      "Number of times given number is divided by 3 is 1\n"
     ]
    }
   ],
   "source": [
    "num=int(input(\"Enter your number\"))\n",
    "count=0\n",
    "while num>10:\n",
    "    num=num/3\n",
    "    count=count+1\n",
    "    \n",
    "print(f\"Number of times given number is divided by 3 is {count}\")\n",
    "              \n"
   ]
  },
  {
   "cell_type": "markdown",
   "id": "f9adb871-310e-4f17-9547-7e60815bdb29",
   "metadata": {},
   "source": [
    "**5. Reverse while loop to display numbers 10 to 1 ?**"
   ]
  },
  {
   "cell_type": "code",
   "execution_count": 21,
   "id": "bcc00b44-3b90-4116-b478-dbfe1ab4cd31",
   "metadata": {},
   "outputs": [
    {
     "name": "stdout",
     "output_type": "stream",
     "text": [
      "Reverse order is 10 to 1\n",
      "10 9 8 7 6 5 4 3 2 1 "
     ]
    }
   ],
   "source": [
    "num=10\n",
    "print(\"Reverse order is 10 to 1\")\n",
    "while num>=1:\n",
    "    print(num,end=\" \")\n",
    "    num-=1"
   ]
  },
  {
   "cell_type": "markdown",
   "id": "f4d6b127-3b5d-426a-aaf4-8ee647ab4b99",
   "metadata": {},
   "source": [
    "**6. When and Why to use while loop in Python with detailed explaination?**"
   ]
  },
  {
   "cell_type": "markdown",
   "id": "9a6d1457-68fd-4d77-b2d0-1c09c733971a",
   "metadata": {},
   "source": [
    "**Ans-**\n",
    "\n",
    "- While loop is used when we do not know how many iteration the loop will complete (repeat iterations until condition is met). And as per condition if you have and else part in logic you can add it. \n",
    "\n",
    "- The advantage to a while loop is that it will go (repeat) as often as necessary to accomplish its goal.\n",
    "- When a while loop is executed, expr is first evaluated in a Boolean context and if it is true, the loop body is executed. Then the expr is checked again, if it is still true then the body is executed again and this continues until the expression becomes false.\n"
   ]
  },
  {
   "cell_type": "raw",
   "id": "89543bb1-2af7-4a3c-ad7f-407b76e31ac7",
   "metadata": {},
   "source": [
    "Syntax: \n",
    "\n",
    "while <Condition>:\n",
    "    <body>\n",
    "    <Expression>\n",
    "\n",
    "else:(optional)\n",
    "    <Body>\n",
    "    "
   ]
  },
  {
   "cell_type": "markdown",
   "id": "d2c49f74-17f0-4f58-886f-2b0d409dae43",
   "metadata": {},
   "source": [
    "For example : Below program for user input input number is palindrome"
   ]
  },
  {
   "cell_type": "raw",
   "id": "01f2a3b9-df0d-4b13-a75e-68cf9b66912c",
   "metadata": {},
   "source": [
    "num = int(input(\"Please enter your number whether the give number is pallindrome or not?\"))\n",
    "num_str = str(num)\n",
    "a=[]\n",
    "count=len(num_str)-1\n",
    "\n",
    "\n",
    "while count>=0:\n",
    "    a.append(num_str[count])\n",
    "    count=count-1\n",
    "\n",
    "\n",
    "\n",
    "temp1=str(\"\".join(a))\n",
    "\n",
    "if int(num_str) == int(temp1):\n",
    "    print(\"Given number is pallindrome\")\n",
    "else:\n",
    "    print(\"Given number is not pallindrome\")\n",
    "    \n",
    "    \n",
    "OR\n",
    "\n",
    "num = int(input(\"Please enter your number whether the give number is pallindrome or not?\"))\n",
    "\n",
    "rev=0\n",
    "\n",
    "while num>0:\n",
    "    digit = num%10\n",
    "    rev = rev*10 + digit\n",
    "    num = num//10\n",
    "    \n",
    "\n",
    "if rev == num:\n",
    "    print(\"Given number is pallindrome\")\n",
    "else:\n",
    "    print(\"Given number is not pallindrome\")"
   ]
  },
  {
   "cell_type": "markdown",
   "id": "bd8c37a2-d678-467e-a66f-2987ca2cd7c8",
   "metadata": {},
   "source": [
    "**7. Check whether given number is prime number or not?**"
   ]
  },
  {
   "cell_type": "code",
   "execution_count": 1,
   "id": "19cae44a-a1f4-43d7-bf47-81dd54d4c97f",
   "metadata": {},
   "outputs": [
    {
     "name": "stdout",
     "output_type": "stream",
     "text": [
      "13 is prime number\n"
     ]
    }
   ],
   "source": [
    "num = 13\n",
    "c=0\n",
    "# If given number is greater than 1\n",
    "if num == 1:\n",
    "    print(num, \"is not a prime number\")\n",
    "\n",
    "elif num==2:\n",
    "    print(num, \"is a prime number\")\n",
    "\n",
    "elif num>2:\n",
    "    # Iterate from 2 to n / 2\n",
    "    for i in range(3 ,int(num/2)):\n",
    "        # If num is divisible by any number between\n",
    "        # 2 and n / 2, it is not prime\n",
    "        if (num % i) == 0:\n",
    "            #print(num, \"is not a prime number\")\n",
    "            print(num, \"is not prime number\")\n",
    "            break\n",
    "    else:\n",
    "        print(num,\"is prime number\")\n",
    "\n",
    "  \n"
   ]
  },
  {
   "cell_type": "markdown",
   "id": "3d7c5df2-9c18-4a43-a448-d1c797c0435c",
   "metadata": {},
   "source": [
    "**8. Use nested while loop to print 3 different patterns**"
   ]
  },
  {
   "cell_type": "raw",
   "id": "f6ff296e-c779-4ed4-aece-d7cb13801c1d",
   "metadata": {},
   "source": [
    "     *\n",
    "   * * *\n",
    " * * * * *\n",
    "* * * * * * *"
   ]
  },
  {
   "cell_type": "code",
   "execution_count": 25,
   "id": "6bace1d4-94cb-4229-8d87-774502aea433",
   "metadata": {},
   "outputs": [
    {
     "name": "stdout",
     "output_type": "stream",
     "text": [
      "   *\n",
      "  ***\n",
      " *****\n",
      "*******\n"
     ]
    }
   ],
   "source": [
    "n=4\n",
    "for i in range(1,n+1):\n",
    "    for j in range(i,n):\n",
    "        print(' ',end='')\n",
    "    for j in range(1,i+1):\n",
    "        print('*',end='')\n",
    "    \n",
    "    if i>=2 :\n",
    "        for j in range(2,i+1):\n",
    "            print('*',end='')\n",
    "        \n",
    "    print()\n",
    "\n",
    "    \n",
    "        "
   ]
  },
  {
   "cell_type": "code",
   "execution_count": 3,
   "id": "5dad1434-f410-48bf-b87e-f64ab3083cc2",
   "metadata": {},
   "outputs": [
    {
     "name": "stdout",
     "output_type": "stream",
     "text": [
      "   *\n",
      "  ***\n",
      " *****\n",
      "*******\n"
     ]
    }
   ],
   "source": [
    "n=4\n",
    "\n",
    "i=1\n",
    "\n",
    "while i<n+1:\n",
    "    \n",
    "    j=i\n",
    "    while j<n:\n",
    "        print(' ' ,end='')\n",
    "        j=j+1\n",
    "    \n",
    "    p=1\n",
    "    while p<i+1:\n",
    "        print('*',end='')\n",
    "        p=p+1\n",
    "    \n",
    "    if i >=2:\n",
    "        r=2\n",
    "        while r<i+1:\n",
    "            print('*',end='')\n",
    "            r=r+1\n",
    "       \n",
    "    \n",
    "    i=i+1\n",
    "    print()\n",
    "    "
   ]
  },
  {
   "cell_type": "raw",
   "id": "5642ba99-8a28-4c0b-9fef-aaaaaff2ae9c",
   "metadata": {},
   "source": [
    "11111\n",
    "2222\n",
    "333\n",
    "44\n",
    "5"
   ]
  },
  {
   "cell_type": "code",
   "execution_count": 11,
   "id": "fa965671-64ea-4926-ba6a-456de228aa27",
   "metadata": {},
   "outputs": [
    {
     "name": "stdout",
     "output_type": "stream",
     "text": [
      "1 1 1 1 1 \n",
      "2 2 2 2 \n",
      "3 3 3 \n",
      "4 4 \n",
      "5 \n"
     ]
    }
   ],
   "source": [
    "n=5\n",
    "a=1\n",
    "for i in range(n,0,-1):\n",
    "    for j in range(1,i+1):\n",
    "        print(a, end=' ')\n",
    "        \n",
    "        \n",
    "    a=a+1\n",
    "    print()\n",
    "        "
   ]
  },
  {
   "cell_type": "code",
   "execution_count": 1,
   "id": "0213efa8-67b9-41d3-b16e-97c795158ea6",
   "metadata": {},
   "outputs": [
    {
     "name": "stdout",
     "output_type": "stream",
     "text": [
      "1 1 1 1 1 \n",
      "2 2 2 2 \n",
      "3 3 3 \n",
      "4 4 \n",
      "5 \n"
     ]
    }
   ],
   "source": [
    "n=5\n",
    "a=1\n",
    "\n",
    "while n>0:\n",
    "    j=1\n",
    "    while j<n+1:\n",
    "        print(a,end=' ' )\n",
    "        j=j+1\n",
    "        \n",
    "    \n",
    "    n=n-1\n",
    "    a=a+1\n",
    "    print()"
   ]
  },
  {
   "cell_type": "raw",
   "id": "9edb983a-1248-4496-8159-de94ca2f8a30",
   "metadata": {},
   "source": [
    "55555\n",
    "5555\n",
    "555\n",
    "55\n",
    "5"
   ]
  },
  {
   "cell_type": "code",
   "execution_count": 3,
   "id": "6a7c856f-ae5c-44f4-9ef8-05914771a9a2",
   "metadata": {},
   "outputs": [
    {
     "name": "stdout",
     "output_type": "stream",
     "text": [
      "5 5 5 5 5 \n",
      "5 5 5 5 \n",
      "5 5 5 \n",
      "5 5 \n",
      "5 \n"
     ]
    }
   ],
   "source": [
    "n=5\n",
    "while n>0:\n",
    "    j=1\n",
    "    a=5\n",
    "    while j<n+1:\n",
    "        print(a,end=' ' )\n",
    "        j=j+1\n",
    "        \n",
    "    \n",
    "    n=n-1\n",
    "    print()"
   ]
  },
  {
   "cell_type": "raw",
   "id": "5fd034f3-7d38-4519-a907-31b594cf869d",
   "metadata": {},
   "source": [
    "1 \n",
    "3 3 \n",
    "5 5 5 \n",
    "7 7 7 7 \n",
    "9 9 9 9 9"
   ]
  },
  {
   "cell_type": "code",
   "execution_count": 5,
   "id": "1db93101-3ea0-4485-8e32-d8356e4b7abe",
   "metadata": {},
   "outputs": [
    {
     "name": "stdout",
     "output_type": "stream",
     "text": [
      "1 \n",
      "3 3 \n",
      "5 5 5 \n",
      "7 7 7 7 \n",
      "9 9 9 9 9 "
     ]
    }
   ],
   "source": [
    "n=5\n",
    "i=1  #row iterator\n",
    "p=1 # ensure odd numbers\n",
    "while i<n+1:\n",
    "    j=1\n",
    "    if p%2!=0:  # checking odd number\n",
    "        while j<=i: # row and colum iterators are same\n",
    "            print(p, end= ' ')\n",
    "            j=j+1\n",
    "        \n",
    "        i=i+1  # Increase row once odd number pattern is printed as we skipping even number in sequence\n",
    "        p=p+1\n",
    "    else:\n",
    "        p=p+1\n",
    "        print()  # we go to newline when number is new line\n",
    "    "
   ]
  },
  {
   "cell_type": "raw",
   "id": "3ca517fa-8e9f-4254-ad29-a7dcce3ee995",
   "metadata": {},
   "source": [
    "0 \n",
    "2 4 \n",
    "4 8 8 \n",
    "8 16 16 16"
   ]
  },
  {
   "cell_type": "code",
   "execution_count": 10,
   "id": "c3004a44-0cf5-44c1-8611-17cb7f2eda3d",
   "metadata": {},
   "outputs": [
    {
     "name": "stdout",
     "output_type": "stream",
     "text": [
      "0 \n",
      "2 4 \n",
      "4 8 8 \n",
      "8 16 16 16 \n"
     ]
    }
   ],
   "source": [
    "n=4\n",
    "i=0 \n",
    "p=0 \n",
    "while i<n:\n",
    "    j=0\n",
    "\n",
    "    while j<=i:\n",
    "        print(p,end=' ' )\n",
    "        p=2**(i+1)\n",
    "        j=j+1\n",
    "            \n",
    "                \n",
    "    i=i+1\n",
    "    print()\n",
    "    "
   ]
  },
  {
   "cell_type": "code",
   "execution_count": null,
   "id": "23ac2b53-0770-4713-b839-71b639f1a962",
   "metadata": {},
   "outputs": [],
   "source": [
    "\n"
   ]
  },
  {
   "cell_type": "code",
   "execution_count": null,
   "id": "8af0c9f7-e33c-489d-84b8-63ed56d4b0ca",
   "metadata": {},
   "outputs": [],
   "source": []
  }
 ],
 "metadata": {
  "kernelspec": {
   "display_name": "Python 3 (ipykernel)",
   "language": "python",
   "name": "python3"
  },
  "language_info": {
   "codemirror_mode": {
    "name": "ipython",
    "version": 3
   },
   "file_extension": ".py",
   "mimetype": "text/x-python",
   "name": "python",
   "nbconvert_exporter": "python",
   "pygments_lexer": "ipython3",
   "version": "3.10.8"
  }
 },
 "nbformat": 4,
 "nbformat_minor": 5
}
