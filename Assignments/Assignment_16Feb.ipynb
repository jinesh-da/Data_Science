{
 "cells": [
  {
   "cell_type": "markdown",
   "id": "e9a706b4-c5ec-4f5f-b652-dc0093b3074f",
   "metadata": {},
   "source": [
    "### Assignment 16 Feb"
   ]
  },
  {
   "cell_type": "markdown",
   "id": "82a1807c-49a8-430b-a161-c0840f07f736",
   "metadata": {},
   "source": [
    "**1. What is a database? Differentiate between SQL and NoSQL databases. ?** "
   ]
  },
  {
   "cell_type": "markdown",
   "id": "fa708223-5f8b-41e9-993e-45fe81b13389",
   "metadata": {},
   "source": [
    "**Ans-** Oraganized collection of data stored electronically. Small amount of data can be stored persistent database like sqllite db files. And larger datbases is stored multiple computing cluster.\n",
    "\n",
    "|SQL|NOSQL|\n",
    "|-----|-----|\n",
    "|Fixed or Static Schema or predefined schema| They have dynamic schema |\n",
    "| Not well suited for hierarchical data| Well suited for heirarchical data|\n",
    "| well suited for complex queries | not suited for complex queries|\n",
    "|Horizontal Scalable | Vertical Scalable|\n",
    "|Follows ACID property (Atomicity,Consistency,Isolate,Durability) | It follows CAP property (Consistency, Availablity, Partition Tolerance|\n",
    "|Typically Joins are required| Mostlly joins are not required|\n",
    "|Display data based on table based|Display data based on key value pair, document based, graph databases|\n"
   ]
  },
  {
   "cell_type": "markdown",
   "id": "d5deb1fb-d8e0-40b5-add1-674d14720943",
   "metadata": {},
   "source": [
    "**2. What is DDL? Explain why CREATE, DROP, ALTER, and TRUNCATE are used with an example.?**"
   ]
  },
  {
   "cell_type": "markdown",
   "id": "803a62b3-723f-4b4b-b140-acd4cf71d498",
   "metadata": {},
   "source": [
    "**Ans-** Data Definition Language actually consists of the SQL commands that can be used to define the database schema. It simply deals with descriptions of the database schema and is used to create and modify the structure of database objects in the database. \n",
    "\n",
    "List of DDL commands: \n",
    "\n",
    "1. CREATE: This command is used to create the database or its objects (like table, index, function, views, store procedure, and triggers). \n",
    "\n",
    "**For  eg.  create table  if not exists practise.t2 (name varchar(23));**\n",
    "\n",
    "\n",
    "2. DROP: This command is used to delete objects from the database. \n",
    "\n",
    "For eg. **Drop table practise.t2;**\n",
    "\n",
    "\n",
    "3. ALTER: This is used to alter the structure of the database. \n",
    "\n",
    "**Alter table t2 add column c2 varchar(25);**\n",
    "\n",
    "4. TRUNCATE: This is used to remove all records from a table, including all spaces allocated for the records are removed.\n",
    "\n",
    "\n",
    "**Truncate table practise.t2;**"
   ]
  },
  {
   "cell_type": "markdown",
   "id": "e84bf010-b6c9-48e2-bfcc-f12fd7937b8d",
   "metadata": {},
   "source": [
    "**3. What is DML? Explain INSERT, UPDATE, and DELETE with an example.?**"
   ]
  },
  {
   "cell_type": "markdown",
   "id": "97beee9e-f65b-4744-95e6-c81aa02b981e",
   "metadata": {},
   "source": [
    "**Ans-** The SQL commands that deals with the manipulation of data present in the database belong to DML or Data Manipulation Language. \n",
    "\n",
    "Please find the below few commands: \n",
    "\n",
    "1. INSERT : It is used to insert data into a table.\n",
    "\n",
    "**INSERT INTO T2 VALUES ('ABC','PQR');**\n",
    "\n",
    "**INSERT INTO T2 (name) VALUES ('ABC');**\n",
    "\n",
    "2. UPDATE: It is used to update existing data within a table.\n",
    "\n",
    "**UPDATE T2 SET name ='XYZ';** \n",
    "\n",
    "**UPDATE T2 SET name='QWE' where c2='PQR'** \n",
    "\n",
    "\n",
    "3. DELETE : It is used to delete records from a database table.\n",
    "\n",
    "**DELETE FROM T2;**\n",
    "\n",
    "**DELETE FROM T2 where name='QWE';**"
   ]
  },
  {
   "cell_type": "markdown",
   "id": "1f3dff15-748a-45bf-930d-1fef07d1d5a5",
   "metadata": {},
   "source": [
    "**4. What is DQL? Explain SELECT with an example.** "
   ]
  },
  {
   "cell_type": "markdown",
   "id": "4e19bc17-7c26-479c-bcf6-f6b9c821f8df",
   "metadata": {},
   "source": [
    "**Ans-** DQL statements are used for performing queries on the data within schema objects. The purpose of the DQL Command is to get some schema relation based on the query passed to it. This command allows getting the data out of the database to perform operations with it. \n",
    "\n",
    "SELECT : We can retrive all the values of column and rows. We can perform expressions/ filter records and transform )\n",
    "\n",
    "**select * from t2 ;** -- retrive all columns and rows of table. \n",
    "\n",
    "**select * from t2 where name='QWE';** --Retrive specific records \n",
    "\n",
    "\n",
    "**select name,c2 , LENGTH(c2) as LENGTH_OF_C2 from t2;** -- Performing expression on values"
   ]
  },
  {
   "cell_type": "markdown",
   "id": "be774685-701f-421f-9f6e-6f7796842897",
   "metadata": {},
   "source": [
    "**5. Explain Primary Key and Foreign Key.** "
   ]
  },
  {
   "cell_type": "markdown",
   "id": "7f6f9cfc-2c45-43ab-9d34-f1cfd36351d4",
   "metadata": {},
   "source": [
    "**Ans-** \n",
    "\n",
    "1. Primary key: Key/ Columns which uniqely defines rows in the table. It does not conatain NULL values. \n",
    "\n",
    "___Example___\n",
    "\n",
    "**Create table if not exists Table2 (id integer NOT NULL, name varchar(20), primary key (ID));** \n",
    "\n",
    "OR\n",
    "\n",
    "**Create table if not exists Table2 (id integer, name varchar(20), Constraint pk_id primary key (ID));** \n",
    "\n",
    "2. Foreign key : Key/ Columns which acting as relations between two tables. Column from child table which is releated to parent table would be acting as primary key. \n",
    "\n",
    "___Example___\n",
    "\n",
    "**Create table IF NOT EXISTS Student (sid integer not null, sname varchar(20), s_locatid integer , \n",
    "  PRIMARY KEY (SID),\n",
    "FOREIGN KEY (s_locatid) REFERENCES Location(LID));**\"\"\n",
    "\n",
    "**CREATE TABLE IF NOT EXISTS LOCATION (LID integer NOT null, LOC_NAME varchar(20), Primary key (LID));**"
   ]
  },
  {
   "cell_type": "markdown",
   "id": "9ffbe7b3-b318-4ea6-8027-3a1823a86668",
   "metadata": {},
   "source": [
    "**6. Write a python code to connect MySQL to python. Explain the cursor() and execute() method.?** "
   ]
  },
  {
   "cell_type": "markdown",
   "id": "244693c8-bf34-4809-860a-6d3d812956ce",
   "metadata": {},
   "source": [
    "**Ans-**"
   ]
  },
  {
   "cell_type": "code",
   "execution_count": null,
   "id": "6fcdd88d-169b-40fa-878c-723122a1106f",
   "metadata": {},
   "outputs": [],
   "source": [
    "import mysql.connector\n",
    "\n",
    "db_connect = mysql.connector.connect(\n",
    "    host=\"localhost\",\n",
    "    user=\"abc\",\n",
    "    password=\"password\"\n",
    ")\n",
    "print(db_connect)\n",
    "mcursor = db_connect.cursor()\n",
    "mcursor.execute(\"show databases;\")\n",
    "\n",
    "db_connect.close()\n"
   ]
  },
  {
   "cell_type": "markdown",
   "id": "57bb778b-2d40-41aa-9549-f31826fcb53d",
   "metadata": {},
   "source": [
    "1. Cursor() : The MySQLCursor class instantiates objects that can execute operations such as SQL statements. Cursor objects interact with the MySQL server using a MySQLConnection object.\n",
    "\n",
    "2. Execute(): The execute () method helps us to execute the query and return records according to the query. It will return the count of the numbers of rows affected during the query."
   ]
  },
  {
   "cell_type": "markdown",
   "id": "1eec4f49-ed08-4a3b-9391-346c1e0dca8e",
   "metadata": {},
   "source": [
    "**7. Give the order of execution of SQL clauses in an SQL query.?**"
   ]
  },
  {
   "cell_type": "markdown",
   "id": "99b39dce-c203-47f3-8f66-c5c4fa2c795f",
   "metadata": {},
   "source": [
    "**Ans-** Order of execution in SQL: \n",
    "\n",
    "1. FROM TABLE\n",
    "2. JOINS \n",
    "3. WHERE \n",
    "4. GROUP BY \n",
    "5. HAVING CLAUSE\n",
    "6. SELECT \n",
    "7. ORDER BY \n",
    "8. LIMIT \n"
   ]
  },
  {
   "cell_type": "code",
   "execution_count": null,
   "id": "59e51f0a-a8ed-4c95-b7d8-17d6f9b35a7d",
   "metadata": {},
   "outputs": [],
   "source": []
  }
 ],
 "metadata": {
  "kernelspec": {
   "display_name": "Python 3 (ipykernel)",
   "language": "python",
   "name": "python3"
  },
  "language_info": {
   "codemirror_mode": {
    "name": "ipython",
    "version": 3
   },
   "file_extension": ".py",
   "mimetype": "text/x-python",
   "name": "python",
   "nbconvert_exporter": "python",
   "pygments_lexer": "ipython3",
   "version": "3.10.8"
  }
 },
 "nbformat": 4,
 "nbformat_minor": 5
}
