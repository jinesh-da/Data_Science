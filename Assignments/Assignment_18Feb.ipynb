{
 "cells": [
  {
   "cell_type": "markdown",
   "id": "fef6f1d7-396b-445a-9de5-c6c01e20752a",
   "metadata": {},
   "source": [
    "## Assignment 18 Feb"
   ]
  },
  {
   "cell_type": "markdown",
   "id": "dddf0c59-0e45-4324-9300-86e4a1677f55",
   "metadata": {},
   "source": [
    "**1. What is an API? Give an example, where an API is used in real life.**"
   ]
  },
  {
   "cell_type": "markdown",
   "id": "c654bce2-42ae-4fa8-9894-01bf4e31daf2",
   "metadata": {},
   "source": [
    "**Ans-** Application Programming Interface is a software interface that allows 2 application to interact with each other with user intervention. API is a collection of software functions and procedures. \n",
    "The application sending the request is called the client, and the application sending the response is called the server. \n",
    "\n",
    "We can take example IRCTC PNR Seat status. \n",
    "\n",
    "Client (web/app) sends the request to API by entering PNR (unique ID). \n",
    "IRCTC Server: Once it receive request, it will try to fetch records from database as per requirement. Once response is back. It will send response/ output to client. \n"
   ]
  },
  {
   "cell_type": "markdown",
   "id": "284195e7-1ac5-4118-9127-e97dc45c4699",
   "metadata": {},
   "source": [
    "**2. Give advantages and disadvantages of using API.**"
   ]
  },
  {
   "cell_type": "markdown",
   "id": "4e90c731-9a70-4e5d-9af4-5657dbfa64a1",
   "metadata": {},
   "source": [
    "**Ans-** \n",
    "\n",
    "Advantages:\n",
    "1. System design made is simple with the help of API. \n",
    "\n",
    "2. We can easily integerate more and more services to system as while changing it will not affect the entire system. \n",
    "\n",
    "3. Easy way to communicate between systems and also helps us to automate task. \n",
    "\n",
    "4. Since communication is two-way APIs offer reliable transactions. \n",
    "\n",
    "\n",
    "Disadvantages:\n",
    "\n",
    "1. As a single point of entry, an API is a gateway and can become a hacker's primary target. Once the API is compromised, all other applications and systems become vulnerable.\n",
    "\n",
    "2. Providing an API is expensive in terms of development time, ongoing maintenance, providing API documentation on your website and providing support to users of your API. \n",
    "\n"
   ]
  },
  {
   "cell_type": "markdown",
   "id": "c08d8519-d715-4236-a621-95e7485a76bd",
   "metadata": {},
   "source": [
    "**3. What is a Web API? Differentiate between API and Web API.**"
   ]
  },
  {
   "cell_type": "markdown",
   "id": "c3292431-1ac4-4b98-a4a3-25cabeb9a1b2",
   "metadata": {},
   "source": [
    "**Ans-**\n",
    "\n",
    "Web API: it can be accessed over the web using the HTTP protocol. It is a framework that helps you to create and develop HTTP based RESTFUL services. The web API can be developed by using different technologies such as java, ASP.NET, etc. Web API is used in either a web server or a web browser. When 2 hetrogeneous or 2 homogeneous applications communicate with each other. \n",
    "\n"
   ]
  },
  {
   "cell_type": "markdown",
   "id": "d30b079b-2db9-4188-9a26-0b619fee57de",
   "metadata": {},
   "source": [
    "|API|WEB API|\n",
    "|---|--------|\n",
    "|API is basically generalized concept. In order to build API we can build through SMTP, HTTP, TCP protocol in order to write functions  and routers. | Web API is some kind subset of API. Here Web API can be developed through HTTP protocol. |\n",
    "|General API is used for REST, SOAP and XML-RPC for communication.|API is used for any style (REST/HTTP) of communication.|\n",
    "| It is uses both XML and json for data exhanging | Here only JSON used for communications.|\n",
    "|It provides support for HTTP, SMTP, SOAP, TCP/IP, response and headers.|It provides support for the HTTP/s protocol: URL Request/Response Headers, and so on.| \n",
    "|It can light based or highly complex architecture based on requirement | It has a light-weight architecture|\n"
   ]
  },
  {
   "cell_type": "markdown",
   "id": "5a5062a3-94a8-4f65-87a0-ab2ba916e62d",
   "metadata": {},
   "source": [
    "**4. Differentiate between REST and SOAP.**"
   ]
  },
  {
   "cell_type": "markdown",
   "id": "eaf75515-07e5-4054-82ce-8c98423aacd0",
   "metadata": {},
   "source": [
    "**Ans-**\n",
    "\n",
    "|SOAP API| REST API|\n",
    "|---------|---------|\n",
    "|Relies on SOAP (Simple object access protocol)|Relies on REST (Representational state transfer) through HTTP|\n",
    "|Transport data in XML Format|Transport data in JSON format|\n",
    "|It relies with SOAP, so it works web service descriptive language (WSDL) |It works with Get, post, put, delete|\n",
    "|works over HTTP, HTTPS, SMTP, XMPP|Works over HTTP, HTTPS|\n",
    "|Highly structured type|Less structured type|\n",
    "|Designed for large enterprise applications|designed for mobile devices|\n",
    "| highly secure as compared to REST API as one additional security is added above transport layer i.e W-s security feature helps to ensure each message should be sent to right server. | less secure as compared to SOAP API|\n",
    "|In SOAP, the WSDL file provides the client with the necessary information which can be used to understand what services the web service can offer.|REST use Uniform Service locators to access to the components on the hardware device.|\n",
    "|SOAP requires more bandwidth for its usage. Since SOAP Messages contain a lot of information inside of it|REST does not need much bandwidth when requests are sent to the server. REST messages mostly just consist of JSON messages.|"
   ]
  },
  {
   "cell_type": "markdown",
   "id": "44a978de-034b-4328-9b81-202fbd3d599d",
   "metadata": {},
   "source": [
    "**5.  Explain REST and SOAP Architecture. Mention shortcomings of SOAP?** "
   ]
  },
  {
   "cell_type": "markdown",
   "id": "1da94d39-1d5b-4d92-9757-fb579de8db58",
   "metadata": {},
   "source": [
    "**Ans-**\n",
    "\n",
    "REST Architecture: \n",
    "    \n",
    "REST is a software architectural style that defines the set of rules to be used for creating web services. Web services which follow the REST architectural style are known as RESTful web services. It allows requesting systems to access and manipulate web resources by using a uniform and predefined set of rules. Interaction in REST based systems happen through Internet’s Hypertext Transfer Protocol (HTTP).\n",
    "\n",
    "The only optional constraint of REST architecture is code on demand. If a service violates any other constraint, it cannot strictly be referred to as RESTful.\n",
    "\n",
    "Architectural Constraints of RESTful API:\n",
    "\n",
    "1. Uniform Interface: It is a key constraint that differentiate between a REST API and Non-REST API. It suggests that there should be an uniform way of interacting with a given server irrespective of device or type of application (website, mobile app). \n",
    "\n",
    "There are four guidelines principle of Uniform Interface are:\n",
    "\n",
    "    1. Resource-Based: Individual resources are identified in requests. For example: API/users.\n",
    "    2. Manipulation of Resources Through Representations: Client has representation of resource and it contains enough information to modify or delete the resource on the server, provided it has permission to do so. Example: Usually user get a user id when user request for a list of users and then use that id to delete or modify that particular user.\n",
    "    3. Self-descriptive Messages: Each message includes enough information to describe how to process the message so that server can easily analyses the request.\n",
    "    4. Hypermedia as the Engine of Application State (HATEOAS): It need to include links for each response so that client can discover other resources easily. \n",
    "    \n",
    "2. Stateless: It means that the necessary state to handle the request is contained within the request itself and server would not store anything related to the session. In REST, the client must include all information for the server to fulfill the request whether as a part of query params, headers or URI. Statelessness enables greater availability since the server does not have to maintain, update or communicate that session state. There is a drawback when the client need to send too much data to the server so it reduces the scope of network optimization and requires more bandwidth. \n",
    "\n",
    "3. Cacheable: Every response should include whether the response is cacheable or not and for how much duration responses can be cached at the client side. Client will return the data from its cache for any subsequent request and there would be no need to send the request again to the server. A well-managed caching partially or completely eliminates some client–server interactions, further improving availability and performance.\n",
    "\n",
    "4. Client-Server: REST application should have a client-server architecture. A Client is someone who is requesting resources and are not concerned with data storage, which remains internal to each server, and server is someone who holds the resources and are not concerned with the user interface or user state.\n",
    "\n",
    "5. Layered system: An application architecture needs to be composed of multiple layers. Each layer doesn’t know any thing about any layer other than that of immediate layer and there can be lot of intermediate servers between client and the end server. Intermediary servers may improve system availability by enabling load-balancing and by providing shared caches. \n",
    "\n",
    "6. Code on demand: It is an optional feature. According to this, servers can also provide executable code to the client. The examples of code on demand may include the compiled components such as Java Servlets and Server-Side Scripts such as JavaScript. \n",
    "\n",
    "HTTP verbs: Some of the common HTTP methods/verbs are described below:\n",
    "\n",
    "1. GET: Retrieves one or more resources identified by the request URI and it can cache the information receive.\n",
    "2. POST: Create a resource from the submission of a request and response is not cacheable in this case. This method is unsafe if no security is applied to the endpoint as it would allow anyone to create a random resource by submission.\n",
    "3. PUT: Update an existing resource on the server specified by the request URI.\n",
    "4. DELETE: Delete an existing resource on the server specified by the request URI. It always return an appropriate HTTP status for every request.\n",
    "\n"
   ]
  },
  {
   "cell_type": "markdown",
   "id": "362e4df3-1d1a-49b0-87e1-24096f970481",
   "metadata": {},
   "source": [
    "SOAP Architecture: \n",
    "\n",
    "SOAP is a protocol for the exchange of information in a distributed environment. SOAP messages are encoded as XML documents and can be exchanged using various underlying protocols. \n",
    "\n",
    "A SOAP message is a one-way transmission between SOAP nodes, from a SOAP sender to a SOAP receiver, but messages can be combined to construct more complex interactions, such as request and response, and peer-to-peer conversations.\n",
    "\n",
    "The specification also includes this information:\n",
    "\n",
    "A set of encoding rules for expressing instances of application-defined data types.\n",
    "A convention for representing remote procedure calls and responses.\n",
    "\n",
    "The SOAP web services architecture is based on interactions between three components: a service provider, a service requester, and an optional service registry.\n",
    "\n",
    "The service provider\n",
    "- The collection of software that provides a web service.\n",
    "- The application program\n",
    "- The middleware\n",
    "- The platform on which they run\n",
    "\n",
    "The service requester\n",
    "\n",
    "- The collection of software that is responsible for requesting a web service from a service provider.\n",
    "- The application program\n",
    "- The middleware\n",
    "- The platform on which they run\n",
    "\n",
    "\n",
    "The service registry\n",
    "\n",
    "The service registry is a central location where service providers can publish their service descriptions and where service requesters can find those service descriptions.\n",
    "\n",
    "The registry is an optional component of the web services architecture because service requesters and providers can communicate without it in many situations. For example, the organization that provides a service can distribute the service description directly to the users of the service in a number of ways, including offering the service as a download from an FTP site.\n",
    "\n",
    "Publish\n",
    "\n",
    "When a service registry is used, a service provider publishes its service description in a service registry for the service requester to find.\n",
    "\n",
    "Find\n",
    "\n",
    "When a service registry is used, a service requester finds the service description in the registry.\n",
    "\n",
    "Bind\n",
    "\n",
    "The service requester uses the service description to bind with the service provider and interact with the web service implementation.\n",
    "\n",
    "Web service description\n",
    "\n",
    "A web service description is a document by which the service provider communicates the specifications for starting the web service to the service requester. Web service descriptions are expressed in the XML application known as Web Service Description Language (WSDL).\n",
    "\n",
    "Service publication\n",
    "\n",
    "You can publish a service description using a number of different mechanisms. Each mechanism is suitable for use in different situations."
   ]
  },
  {
   "cell_type": "markdown",
   "id": "c2c50938-320b-4337-925f-1a82eba2daed",
   "metadata": {},
   "source": [
    "Disadvantages:\n",
    "    \n",
    "**Resource-consuming.** Due to the larger size of an XML-file and a payload created by the massive structure of a message, a SOAP API requires a larger bandwidth. Sometimes, this trade-off isn’t worth dealing with. Simply put, it’s slow to process these strings of tags that XML messages abound with.\n",
    "\n",
    "**Hard learning curve**. Being protocol-based, building SOAP API servers requires knowledge and understanding of all protocols you may use with it. Developers dealing with building these types of APIs should dive deep into all processes inside the protocol with its highly restricted rules.\n",
    "\n",
    "**Lacks flexibility**. This rigid SOAP schema requires additional effort to add or remove the message properties on both sides of the communication, the server and the client. It makes updating requests and responses a tedious process and slows down adoption."
   ]
  },
  {
   "cell_type": "code",
   "execution_count": null,
   "id": "4c7ef7d4-7979-4549-82e7-e0865e2107d9",
   "metadata": {},
   "outputs": [],
   "source": []
  }
 ],
 "metadata": {
  "kernelspec": {
   "display_name": "Python 3 (ipykernel)",
   "language": "python",
   "name": "python3"
  },
  "language_info": {
   "codemirror_mode": {
    "name": "ipython",
    "version": 3
   },
   "file_extension": ".py",
   "mimetype": "text/x-python",
   "name": "python",
   "nbconvert_exporter": "python",
   "pygments_lexer": "ipython3",
   "version": "3.10.8"
  }
 },
 "nbformat": 4,
 "nbformat_minor": 5
}
